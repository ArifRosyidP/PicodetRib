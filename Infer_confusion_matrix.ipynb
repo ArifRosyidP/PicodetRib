{
 "cells": [
  {
   "cell_type": "code",
   "execution_count": 1,
   "metadata": {},
   "outputs": [
    {
     "ename": "error",
     "evalue": "OpenCV(4.5.5) :-1: error: (-5:Bad argument) in function 'rectangle'\n> Overload resolution failed:\n>  - Can't parse 'pt1'. Sequence item with index 0 has a wrong type\n>  - Can't parse 'pt1'. Sequence item with index 0 has a wrong type\n>  - rectangle() missing required argument 'rec' (pos 2)\n>  - rectangle() missing required argument 'rec' (pos 2)\n",
     "output_type": "error",
     "traceback": [
      "\u001b[1;31m---------------------------------------------------------------------------\u001b[0m",
      "\u001b[1;31merror\u001b[0m                                     Traceback (most recent call last)",
      "Input \u001b[1;32mIn [1]\u001b[0m, in \u001b[0;36m<cell line: 46>\u001b[1;34m()\u001b[0m\n\u001b[0;32m     44\u001b[0m \tcv2\u001b[38;5;241m.\u001b[39mwaitKey()\t\u001b[38;5;66;03m# Wait for any key to be pressed to exit\u001b[39;00m\n\u001b[0;32m     46\u001b[0m \u001b[38;5;28;01mif\u001b[39;00m \u001b[38;5;18m__name__\u001b[39m \u001b[38;5;241m==\u001b[39m \u001b[38;5;124m\"\u001b[39m\u001b[38;5;124m__main__\u001b[39m\u001b[38;5;124m\"\u001b[39m:\n\u001b[1;32m---> 47\u001b[0m \t\u001b[43mmain\u001b[49m\u001b[43m(\u001b[49m\u001b[43m)\u001b[49m\n",
      "Input \u001b[1;32mIn [1]\u001b[0m, in \u001b[0;36mmain\u001b[1;34m()\u001b[0m\n\u001b[0;32m     35\u001b[0m img \u001b[38;5;241m=\u001b[39m cv2\u001b[38;5;241m.\u001b[39mimread(\u001b[38;5;124m\"\u001b[39m\u001b[38;5;124mdataset/udtiri/validImage/00066.jpg\u001b[39m\u001b[38;5;124m\"\u001b[39m)\t\u001b[38;5;66;03m# Read the image \u001b[39;00m\n\u001b[0;32m     36\u001b[0m img \u001b[38;5;241m=\u001b[39m cv2\u001b[38;5;241m.\u001b[39mresize(img, (\u001b[38;5;241m640\u001b[39m, \u001b[38;5;241m480\u001b[39m))\t\u001b[38;5;66;03m# Resize the image to be displayed on the screen\u001b[39;00m\n\u001b[1;32m---> 37\u001b[0m img \u001b[38;5;241m=\u001b[39m \u001b[43mdraw_box\u001b[49m\u001b[43m(\u001b[49m\u001b[43mimg\u001b[49m\u001b[43m,\u001b[49m\u001b[43mbbox_cat1\u001b[49m\u001b[43m,\u001b[49m\u001b[43mcolor\u001b[49m\u001b[38;5;241;43m=\u001b[39;49m\u001b[43m(\u001b[49m\u001b[38;5;241;43m0\u001b[39;49m\u001b[43m,\u001b[49m\u001b[38;5;241;43m255\u001b[39;49m\u001b[43m,\u001b[49m\u001b[38;5;241;43m0\u001b[39;49m\u001b[43m)\u001b[49m\u001b[43m)\u001b[49m \u001b[38;5;66;03m# Call the function to draw the first box\t\u001b[39;00m\n\u001b[0;32m     38\u001b[0m img \u001b[38;5;241m=\u001b[39m draw_box(img,bbox_cat2,color\u001b[38;5;241m=\u001b[39m(\u001b[38;5;241m255\u001b[39m,\u001b[38;5;241m0\u001b[39m,\u001b[38;5;241m0\u001b[39m)) \u001b[38;5;66;03m# Call the function to draw the second box\t\u001b[39;00m\n\u001b[0;32m     39\u001b[0m iou \u001b[38;5;241m=\u001b[39m IOU(bbox_cat1, bbox_cat2)\t\u001b[38;5;66;03m# Calling the function to return the IOU\u001b[39;00m\n",
      "Input \u001b[1;32mIn [1]\u001b[0m, in \u001b[0;36mdraw_box\u001b[1;34m(frame, bbox, color)\u001b[0m\n\u001b[0;32m      3\u001b[0m \u001b[38;5;28;01mdef\u001b[39;00m \u001b[38;5;21mdraw_box\u001b[39m(frame, bbox, color\u001b[38;5;241m=\u001b[39m(\u001b[38;5;241m255\u001b[39m,\u001b[38;5;241m0\u001b[39m,\u001b[38;5;241m0\u001b[39m)):\n\u001b[0;32m      4\u001b[0m \tx, y, w, h \u001b[38;5;241m=\u001b[39m bbox\n\u001b[1;32m----> 5\u001b[0m \t\u001b[43mcv2\u001b[49m\u001b[38;5;241;43m.\u001b[39;49m\u001b[43mrectangle\u001b[49m\u001b[43m(\u001b[49m\u001b[43mframe\u001b[49m\u001b[43m,\u001b[49m\u001b[43m \u001b[49m\u001b[43mpt1\u001b[49m\u001b[38;5;241;43m=\u001b[39;49m\u001b[43m(\u001b[49m\u001b[43mx\u001b[49m\u001b[43m,\u001b[49m\u001b[43m \u001b[49m\u001b[43my\u001b[49m\u001b[43m)\u001b[49m\u001b[43m,\u001b[49m\u001b[43m \u001b[49m\u001b[43mpt2\u001b[49m\u001b[38;5;241;43m=\u001b[39;49m\u001b[43m(\u001b[49m\u001b[43mx\u001b[49m\u001b[38;5;241;43m+\u001b[39;49m\u001b[43mw\u001b[49m\u001b[43m,\u001b[49m\u001b[43m \u001b[49m\u001b[43my\u001b[49m\u001b[38;5;241;43m+\u001b[39;49m\u001b[43mh\u001b[49m\u001b[43m)\u001b[49m\u001b[43m,\u001b[49m\u001b[43m \u001b[49m\u001b[43mcolor\u001b[49m\u001b[38;5;241;43m=\u001b[39;49m\u001b[43mcolor\u001b[49m\u001b[43m,\u001b[49m\u001b[43m \u001b[49m\u001b[43mthickness\u001b[49m\u001b[38;5;241;43m=\u001b[39;49m\u001b[38;5;241;43m2\u001b[39;49m\u001b[43m)\u001b[49m\n\u001b[0;32m      6\u001b[0m \t\u001b[38;5;28;01mreturn\u001b[39;00m frame\n",
      "\u001b[1;31merror\u001b[0m: OpenCV(4.5.5) :-1: error: (-5:Bad argument) in function 'rectangle'\n> Overload resolution failed:\n>  - Can't parse 'pt1'. Sequence item with index 0 has a wrong type\n>  - Can't parse 'pt1'. Sequence item with index 0 has a wrong type\n>  - rectangle() missing required argument 'rec' (pos 2)\n>  - rectangle() missing required argument 'rec' (pos 2)\n"
     ]
    }
   ],
   "source": [
    "import cv2\n",
    "\n",
    "def draw_box(frame, bbox, color=(255,0,0)):\n",
    "\tx, y, w, h = bbox\n",
    "\tcv2.rectangle(frame, pt1=(x, y), pt2=(x+w, y+h), color=color, thickness=2)\n",
    "\treturn frame\n",
    "\n",
    "def IOU(box1, box2):\n",
    "\t\"\"\" We assume that the box follows the format:\n",
    "\t\tbox1 = [x1,y1,x2,y2], and box2 = [x3,y3,x4,y4],\n",
    "\t\twhere (x1,y1) and (x3,y3) represent the top left coordinate,\n",
    "\t\tand (x2,y2) and (x4,y4) represent the bottom right coordinate \"\"\"\n",
    "\tx1, y1, x2, y2 = box1\t\n",
    "\tx3, y3, x4, y4 = box2\n",
    "\tx_inter1 = max(x1, x3)\n",
    "\ty_inter1 = max(y1, y3)\n",
    "\tx_inter2 = min(x2, x4)\n",
    "\ty_inter2 = min(y2, y4)\n",
    "\twidth_inter = abs(x_inter2 - x_inter1)\n",
    "\theight_inter = abs(y_inter2 - y_inter1)\n",
    "\tarea_inter = width_inter * height_inter\n",
    "\twidth_box1 = abs(x2 - x1)\n",
    "\theight_box1 = abs(y2 - y1)\n",
    "\twidth_box2 = abs(x4 - x3)\n",
    "\theight_box2 = abs(y4 - y3)\n",
    "\tarea_box1 = width_box1 * height_box1\n",
    "\tarea_box2 = width_box2 * height_box2\n",
    "\tarea_union = area_box1 + area_box2 - area_inter\n",
    "\tiou = area_inter / area_union\n",
    "\treturn iou\n",
    "\n",
    "def main():\n",
    "\tbbox_cat1 = [218.0, 355.0, 895.0, 463.0]\t# Defining the coordinates of the first bounding box (x1,y1,x2,y2)\n",
    "\tbbox_cat2 = [187.36895751953125, 360.5907287597656, 932.7528686523438, 448.6288757324219]\t# Defining the coordinates of the second bounding box (x3,y3,x4,y4)\n",
    "\timg = cv2.imread(\"dataset/udtiri/validImage/00066.jpg\")\t# Read the image \n",
    "\timg = cv2.resize(img, (640, 480))\t# Resize the image to be displayed on the screen\n",
    "\timg = draw_box(img,bbox_cat1,color=(0,255,0)) # Call the function to draw the first box\t\n",
    "\timg = draw_box(img,bbox_cat2,color=(255,0,0)) # Call the function to draw the second box\t\n",
    "\tiou = IOU(bbox_cat1, bbox_cat2)\t# Calling the function to return the IOU\n",
    "\timg = cv2.putText(img, 'IOU: {}'.format(iou), (bbox_cat1[0], bbox_cat1[1]), cv2.FONT_HERSHEY_SIMPLEX , 1, \n",
    "\t\t\t\t\t\t(255,0,0), 2, cv2.LINE_AA) \t# Draw the IOU on the image\n",
    "\tprint(\"IOU OF THE BOXES IS: \", iou)\t# Print the iou\n",
    "\tcv2.imshow(\"IMG\", img)\t# Show the image\n",
    "\tcv2.waitKey()\t# Wait for any key to be pressed to exit\n",
    "\n",
    "if __name__ == \"__main__\":\n",
    "\tmain()"
   ]
  }
 ],
 "metadata": {
  "kernelspec": {
   "display_name": "Python 3",
   "language": "python",
   "name": "python3"
  },
  "language_info": {
   "codemirror_mode": {
    "name": "ipython",
    "version": 3
   },
   "file_extension": ".py",
   "mimetype": "text/x-python",
   "name": "python",
   "nbconvert_exporter": "python",
   "pygments_lexer": "ipython3",
   "version": "3.10.0"
  }
 },
 "nbformat": 4,
 "nbformat_minor": 2
}
